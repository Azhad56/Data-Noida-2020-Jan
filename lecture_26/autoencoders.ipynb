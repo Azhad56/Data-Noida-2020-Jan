{
  "nbformat": 4,
  "nbformat_minor": 0,
  "metadata": {
    "kernelspec": {
      "display_name": "Python 3",
      "language": "python",
      "name": "python3"
    },
    "language_info": {
      "codemirror_mode": {
        "name": "ipython",
        "version": 3
      },
      "file_extension": ".py",
      "mimetype": "text/x-python",
      "name": "python",
      "nbconvert_exporter": "python",
      "pygments_lexer": "ipython3",
      "version": "3.6.10"
    },
    "colab": {
      "name": "autoencoders.ipynb",
      "provenance": []
    }
  },
  "cells": [
    {
      "cell_type": "code",
      "metadata": {
        "id": "Zp46JEIzV8Dr",
        "colab_type": "code",
        "colab": {}
      },
      "source": [
        "from tensorflow.keras.models import Model\n",
        "from tensorflow.keras.layers import Input, Dense, Reshape, Flatten\n",
        "\n",
        "from tensorflow.keras.datasets import mnist\n",
        "\n",
        "import matplotlib.pyplot as plt"
      ],
      "execution_count": 0,
      "outputs": []
    },
    {
      "cell_type": "code",
      "metadata": {
        "id": "3Oay5eDWV8Du",
        "colab_type": "code",
        "colab": {
          "base_uri": "https://localhost:8080/",
          "height": 51
        },
        "outputId": "54d27bfc-2716-4145-c8cf-c149002562cc"
      },
      "source": [
        "(x_train, y_train), (x_test, y_test) = mnist.load_data()"
      ],
      "execution_count": 2,
      "outputs": [
        {
          "output_type": "stream",
          "text": [
            "Downloading data from https://storage.googleapis.com/tensorflow/tf-keras-datasets/mnist.npz\n",
            "11493376/11490434 [==============================] - 0s 0us/step\n"
          ],
          "name": "stdout"
        }
      ]
    },
    {
      "cell_type": "code",
      "metadata": {
        "id": "j8Q-11R1V8Dy",
        "colab_type": "code",
        "colab": {}
      },
      "source": [
        "x_train, x_test = x_train/255, x_test/255"
      ],
      "execution_count": 0,
      "outputs": []
    },
    {
      "cell_type": "code",
      "metadata": {
        "id": "RiOTjRbSV8D1",
        "colab_type": "code",
        "colab": {}
      },
      "source": [
        "in_layer = Input(shape=(28, 28))\n",
        "flat = Flatten()(in_layer)\n",
        "d = Dense(units=400, activation=\"linear\")(flat)\n",
        "d = Dense(units=50, activation=\"linear\")(d)\n",
        "d = Dense(units=400, activation=\"linear\")(d)\n",
        "d = Dense(units=784, activation=\"sigmoid\")(d)\n",
        "out_layer = Reshape(target_shape=(28, 28))(d)"
      ],
      "execution_count": 0,
      "outputs": []
    },
    {
      "cell_type": "code",
      "metadata": {
        "id": "P2oXC3FiV8D7",
        "colab_type": "code",
        "colab": {}
      },
      "source": [
        "model = Model(inputs=in_layer, outputs=out_layer)"
      ],
      "execution_count": 0,
      "outputs": []
    },
    {
      "cell_type": "code",
      "metadata": {
        "id": "6667p9rXV8D9",
        "colab_type": "code",
        "colab": {
          "base_uri": "https://localhost:8080/",
          "height": 391
        },
        "outputId": "f92d90a0-eae1-4a76-9d76-72d97ebbf324"
      },
      "source": [
        "model.summary()"
      ],
      "execution_count": 21,
      "outputs": [
        {
          "output_type": "stream",
          "text": [
            "Model: \"model_2\"\n",
            "_________________________________________________________________\n",
            "Layer (type)                 Output Shape              Param #   \n",
            "=================================================================\n",
            "input_2 (InputLayer)         [(None, 28, 28)]          0         \n",
            "_________________________________________________________________\n",
            "flatten_1 (Flatten)          (None, 784)               0         \n",
            "_________________________________________________________________\n",
            "dense_4 (Dense)              (None, 400)               314000    \n",
            "_________________________________________________________________\n",
            "dense_5 (Dense)              (None, 50)                20050     \n",
            "_________________________________________________________________\n",
            "dense_6 (Dense)              (None, 400)               20400     \n",
            "_________________________________________________________________\n",
            "dense_7 (Dense)              (None, 784)               314384    \n",
            "_________________________________________________________________\n",
            "reshape_1 (Reshape)          (None, 28, 28)            0         \n",
            "=================================================================\n",
            "Total params: 668,834\n",
            "Trainable params: 668,834\n",
            "Non-trainable params: 0\n",
            "_________________________________________________________________\n"
          ],
          "name": "stdout"
        }
      ]
    },
    {
      "cell_type": "code",
      "metadata": {
        "id": "4rCL6Vp0V8EC",
        "colab_type": "code",
        "colab": {}
      },
      "source": [
        "model.compile(optimizer=\"adam\", loss=\"mse\")"
      ],
      "execution_count": 0,
      "outputs": []
    },
    {
      "cell_type": "code",
      "metadata": {
        "id": "CeZkSotvV8EG",
        "colab_type": "code",
        "colab": {
          "base_uri": "https://localhost:8080/",
          "height": 51
        },
        "outputId": "e65d01a7-6986-463f-fdfa-e7079a0d5e64"
      },
      "source": [
        "model.fit(x_train, x_train, epochs=1)"
      ],
      "execution_count": 23,
      "outputs": [
        {
          "output_type": "stream",
          "text": [
            "1875/1875 [==============================] - 11s 6ms/step - loss: 0.0130\n"
          ],
          "name": "stdout"
        },
        {
          "output_type": "execute_result",
          "data": {
            "text/plain": [
              "<tensorflow.python.keras.callbacks.History at 0x7f5ccc94b400>"
            ]
          },
          "metadata": {
            "tags": []
          },
          "execution_count": 23
        }
      ]
    },
    {
      "cell_type": "code",
      "metadata": {
        "id": "Wn5TPQIgV8EK",
        "colab_type": "code",
        "colab": {}
      },
      "source": [
        "out = model.predict(x_test[:5])"
      ],
      "execution_count": 0,
      "outputs": []
    },
    {
      "cell_type": "code",
      "metadata": {
        "id": "cbJrenpKV8EM",
        "colab_type": "code",
        "colab": {
          "base_uri": "https://localhost:8080/",
          "height": 34
        },
        "outputId": "f8a5a7a7-6a98-4d13-8171-e47fe80edf0c"
      },
      "source": [
        "out.shape"
      ],
      "execution_count": 25,
      "outputs": [
        {
          "output_type": "execute_result",
          "data": {
            "text/plain": [
              "(5, 28, 28)"
            ]
          },
          "metadata": {
            "tags": []
          },
          "execution_count": 25
        }
      ]
    },
    {
      "cell_type": "code",
      "metadata": {
        "id": "kWQYGLvhV8EP",
        "colab_type": "code",
        "colab": {}
      },
      "source": [
        "out = out - out.min()\n",
        "out = out / out.max()"
      ],
      "execution_count": 0,
      "outputs": []
    },
    {
      "cell_type": "code",
      "metadata": {
        "id": "7AJO5MdfV8ES",
        "colab_type": "code",
        "colab": {
          "base_uri": "https://localhost:8080/",
          "height": 282
        },
        "outputId": "7e527bf8-b5e4-4cce-f854-faab839592c6"
      },
      "source": [
        "plt.imshow(out[0])"
      ],
      "execution_count": 27,
      "outputs": [
        {
          "output_type": "execute_result",
          "data": {
            "text/plain": [
              "<matplotlib.image.AxesImage at 0x7f5ccb85c5c0>"
            ]
          },
          "metadata": {
            "tags": []
          },
          "execution_count": 27
        },
        {
          "output_type": "display_data",
          "data": {
            "image/png": "[encoded data removed]",
            "text/plain": [
              "<Figure size 432x288 with 1 Axes>"
            ]
          },
          "metadata": {
            "tags": [],
            "needs_background": "light"
          }
        }
      ]
    },
    {
      "cell_type": "code",
      "metadata": {
        "id": "ylxrIZ34V8EW",
        "colab_type": "code",
        "colab": {
          "base_uri": "https://localhost:8080/",
          "height": 136
        },
        "outputId": "34486a94-0d85-4fb2-d7b4-3dde6086c298"
      },
      "source": [
        "model.layers"
      ],
      "execution_count": 28,
      "outputs": [
        {
          "output_type": "execute_result",
          "data": {
            "text/plain": [
              "[<tensorflow.python.keras.engine.input_layer.InputLayer at 0x7f5ccd201080>,\n",
              " <tensorflow.python.keras.layers.core.Flatten at 0x7f5ccd19b080>,\n",
              " <tensorflow.python.keras.layers.core.Dense at 0x7f5ccd865940>,\n",
              " <tensorflow.python.keras.layers.core.Dense at 0x7f5cd0626da0>,\n",
              " <tensorflow.python.keras.layers.core.Dense at 0x7f5ccd8cca90>,\n",
              " <tensorflow.python.keras.layers.core.Dense at 0x7f5ccd1900f0>,\n",
              " <tensorflow.python.keras.layers.core.Reshape at 0x7f5cd06269b0>]"
            ]
          },
          "metadata": {
            "tags": []
          },
          "execution_count": 28
        }
      ]
    },
    {
      "cell_type": "code",
      "metadata": {
        "id": "i2YYQFDGV8EY",
        "colab_type": "code",
        "colab": {}
      },
      "source": [
        "encoder = Model(inputs=model.input, outputs=model.layers[3].output)"
      ],
      "execution_count": 0,
      "outputs": []
    },
    {
      "cell_type": "code",
      "metadata": {
        "id": "LzNnyDRfWkKZ",
        "colab_type": "code",
        "colab": {
          "base_uri": "https://localhost:8080/",
          "height": 289
        },
        "outputId": "50a37a0a-5620-4880-f488-590dc78d77bb"
      },
      "source": [
        "encoder.summary()"
      ],
      "execution_count": 30,
      "outputs": [
        {
          "output_type": "stream",
          "text": [
            "Model: \"model_3\"\n",
            "_________________________________________________________________\n",
            "Layer (type)                 Output Shape              Param #   \n",
            "=================================================================\n",
            "input_2 (InputLayer)         [(None, 28, 28)]          0         \n",
            "_________________________________________________________________\n",
            "flatten_1 (Flatten)          (None, 784)               0         \n",
            "_________________________________________________________________\n",
            "dense_4 (Dense)              (None, 400)               314000    \n",
            "_________________________________________________________________\n",
            "dense_5 (Dense)              (None, 50)                20050     \n",
            "=================================================================\n",
            "Total params: 334,050\n",
            "Trainable params: 334,050\n",
            "Non-trainable params: 0\n",
            "_________________________________________________________________\n"
          ],
          "name": "stdout"
        }
      ]
    },
    {
      "cell_type": "code",
      "metadata": {
        "id": "-85ohWl3WpZS",
        "colab_type": "code",
        "colab": {
          "base_uri": "https://localhost:8080/",
          "height": 34
        },
        "outputId": "22d8849c-bd50-47db-911a-3d2419deba8e"
      },
      "source": [
        "encoder.predict(x_test).shape"
      ],
      "execution_count": 31,
      "outputs": [
        {
          "output_type": "execute_result",
          "data": {
            "text/plain": [
              "(10000, 50)"
            ]
          },
          "metadata": {
            "tags": []
          },
          "execution_count": 31
        }
      ]
    },
    {
      "cell_type": "code",
      "metadata": {
        "id": "FbqljYhNW4qW",
        "colab_type": "code",
        "colab": {
          "base_uri": "https://localhost:8080/",
          "height": 34
        },
        "outputId": "6d793611-ff5a-4a68-bf52-56a245dc3285"
      },
      "source": [
        "x_test.shape"
      ],
      "execution_count": 32,
      "outputs": [
        {
          "output_type": "execute_result",
          "data": {
            "text/plain": [
              "(10000, 28, 28)"
            ]
          },
          "metadata": {
            "tags": []
          },
          "execution_count": 32
        }
      ]
    },
    {
      "cell_type": "code",
      "metadata": {
        "id": "2_Pz_s5HW7wJ",
        "colab_type": "code",
        "colab": {}
      },
      "source": [
        ""
      ],
      "execution_count": 0,
      "outputs": []
    }
  ]
}