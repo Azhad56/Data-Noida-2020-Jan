{
 "cells": [
  {
   "cell_type": "code",
   "execution_count": 18,
   "metadata": {},
   "outputs": [],
   "source": [
    "from sklearn.datasets import make_regression\n",
    "import numpy as np\n",
    "import matplotlib.pyplot as plt"
   ]
  },
  {
   "cell_type": "code",
   "execution_count": 19,
   "metadata": {},
   "outputs": [],
   "source": [
    "X, y, coef = make_regression(n_samples=100, n_features=5, noise=5, random_state=42, coef=True)"
   ]
  },
  {
   "cell_type": "code",
   "execution_count": 20,
   "metadata": {},
   "outputs": [
    {
     "data": {
      "text/plain": [
       "array([60.57748194, 98.65152488, 64.59172413, 57.07783047, 35.60967259])"
      ]
     },
     "execution_count": 20,
     "metadata": {},
     "output_type": "execute_result"
    }
   ],
   "source": [
    "coef"
   ]
  },
  {
   "cell_type": "code",
   "execution_count": 21,
   "metadata": {},
   "outputs": [],
   "source": [
    "# plt.scatter(X, y)"
   ]
  },
  {
   "cell_type": "code",
   "execution_count": 22,
   "metadata": {},
   "outputs": [],
   "source": [
    "from sklearn.model_selection import train_test_split\n",
    "from sklearn.linear_model import LinearRegression"
   ]
  },
  {
   "cell_type": "code",
   "execution_count": 23,
   "metadata": {},
   "outputs": [],
   "source": [
    "X_train, X_test, y_train, y_test = train_test_split(X, y, test_size=0.33, random_state=42)"
   ]
  },
  {
   "cell_type": "code",
   "execution_count": 24,
   "metadata": {},
   "outputs": [],
   "source": [
    "# plt.scatter(X_train, y_train)"
   ]
  },
  {
   "cell_type": "code",
   "execution_count": 25,
   "metadata": {},
   "outputs": [],
   "source": [
    "model = LinearRegression()"
   ]
  },
  {
   "cell_type": "code",
   "execution_count": 26,
   "metadata": {},
   "outputs": [
    {
     "data": {
      "text/plain": [
       "LinearRegression(copy_X=True, fit_intercept=True, n_jobs=1, normalize=False)"
      ]
     },
     "execution_count": 26,
     "metadata": {},
     "output_type": "execute_result"
    }
   ],
   "source": [
    "model.fit(X_train, y_train)"
   ]
  },
  {
   "cell_type": "code",
   "execution_count": 27,
   "metadata": {},
   "outputs": [
    {
     "data": {
      "text/plain": [
       "(array([60.9009373 , 98.56745305, 62.49829056, 56.23914978, 35.68116993]),\n",
       " 0.2306678991865425)"
      ]
     },
     "execution_count": 27,
     "metadata": {},
     "output_type": "execute_result"
    }
   ],
   "source": [
    "model.coef_, model.intercept_"
   ]
  },
  {
   "cell_type": "code",
   "execution_count": null,
   "metadata": {},
   "outputs": [],
   "source": []
  },
  {
   "cell_type": "code",
   "execution_count": 28,
   "metadata": {},
   "outputs": [],
   "source": [
    "# plt.scatter(X_train, y_train)\n",
    "\n",
    "# plt.scatter(X_test, model.predict(X_test))"
   ]
  },
  {
   "cell_type": "code",
   "execution_count": 29,
   "metadata": {},
   "outputs": [],
   "source": [
    "class LinearRegCustom:\n",
    "    \n",
    "    def __init__(self, lr=.01, max_iters=20):\n",
    "        self.lr = lr\n",
    "        self.max_iters = max_iters\n",
    "        \n",
    "        \n",
    "    def fit(self, X, y):\n",
    "        \n",
    "        self.coef_ = np.random.randn(1, X.shape[1])\n",
    "        self.intercept_ = np.random.random()\n",
    "        \n",
    "        errs = []\n",
    "        for i in range(self.max_iters):\n",
    "            #this line have been added for mini batch\n",
    "            indices = np.random.randint(0, len(X), len(X)//10)\n",
    "            self.gradient_decend(X[indices], y[indices])\n",
    "            errs.append(self.error(X, y))\n",
    "        \n",
    "        return errs\n",
    "            \n",
    "    \n",
    "    def gradient_decend(self, X, y):\n",
    "        delta_coef, delta_inter = self.gradient(X, y)\n",
    "        \n",
    "        self.coef_ += delta_coef\n",
    "        self.intercept_ += delta_inter\n",
    "        \n",
    "    def gradient(self, X, y):\n",
    "        ya = y.reshape(-1, 1)\n",
    "        yh = self.predict(X)\n",
    "        e = yh - ya\n",
    "        \n",
    "        de2m = np.dot(e.T, X)/len(X)\n",
    "        de2c = np.mean(e * 1)\n",
    "        \n",
    "        return -de2m*self.lr, -de2c*self.lr\n",
    "    \n",
    "    def error(self, X, y):\n",
    "        ya = y.reshape(-1, 1)\n",
    "        yh = self.predict(X)\n",
    "        e = yh - ya\n",
    "        return np.mean(e**2)\n",
    "        \n",
    "    def predict(self, X):\n",
    "        return np.dot(X, self.coef_.T) + self.intercept_"
   ]
  },
  {
   "cell_type": "code",
   "execution_count": 30,
   "metadata": {},
   "outputs": [
    {
     "data": {
      "image/png": "[encoded data removed]",
      "text/plain": [
       "<Figure size 432x288 with 1 Axes>"
      ]
     },
     "metadata": {
      "needs_background": "light"
     },
     "output_type": "display_data"
    }
   ],
   "source": [
    "m2 = LinearRegCustom(lr=.4)\n",
    "\n",
    "errors = m2.fit(X_train, y_train)\n",
    "\n",
    "plt.figure()\n",
    "plt.plot(errors)\n",
    "plt.show()"
   ]
  },
  {
   "cell_type": "code",
   "execution_count": 31,
   "metadata": {},
   "outputs": [
    {
     "data": {
      "text/plain": [
       "31.197723071150193"
      ]
     },
     "execution_count": 31,
     "metadata": {},
     "output_type": "execute_result"
    }
   ],
   "source": [
    "m2.error(X_test, y_test)"
   ]
  },
  {
   "cell_type": "code",
   "execution_count": 32,
   "metadata": {},
   "outputs": [
    {
     "data": {
      "text/plain": [
       "array([[ 180.39058242],\n",
       "       [-301.35928037],\n",
       "       [ 114.02129851],\n",
       "       [ 169.95989206],\n",
       "       [ 396.26364916],\n",
       "       [  74.64243164],\n",
       "       [ -26.11183855],\n",
       "       [ -89.17347335],\n",
       "       [  -1.22769029],\n",
       "       [ -55.4265845 ]])"
      ]
     },
     "execution_count": 32,
     "metadata": {},
     "output_type": "execute_result"
    }
   ],
   "source": [
    "m2.predict(X_test[:10])"
   ]
  },
  {
   "cell_type": "code",
   "execution_count": 33,
   "metadata": {},
   "outputs": [
    {
     "data": {
      "text/plain": [
       "array([ 171.97342324, -296.63982232,  116.16860896,  177.70505742,\n",
       "        404.33157241,   63.20544053,  -27.65887483,  -91.2538501 ,\n",
       "          6.34539322,  -64.93899465])"
      ]
     },
     "execution_count": 33,
     "metadata": {},
     "output_type": "execute_result"
    }
   ],
   "source": [
    "y_test[:10]"
   ]
  },
  {
   "cell_type": "code",
   "execution_count": 36,
   "metadata": {},
   "outputs": [
    {
     "data": {
      "text/plain": [
       "array([ 178.81927816, -293.05368611,  114.28936885,  176.99017203,\n",
       "        399.85778521,   69.85000693,  -25.49855826,  -92.04398944,\n",
       "          1.94586354,  -55.6511616 ])"
      ]
     },
     "execution_count": 36,
     "metadata": {},
     "output_type": "execute_result"
    }
   ],
   "source": [
    "model.predict(X_test[:10])"
   ]
  },
  {
   "cell_type": "code",
   "execution_count": null,
   "metadata": {},
   "outputs": [],
   "source": []
  }
 ],
 "metadata": {
  "kernelspec": {
   "display_name": "Python 3",
   "language": "python",
   "name": "python3"
  },
  "language_info": {
   "codemirror_mode": {
    "name": "ipython",
    "version": 3
   },
   "file_extension": ".py",
   "mimetype": "text/x-python",
   "name": "python",
   "nbconvert_exporter": "python",
   "pygments_lexer": "ipython3",
   "version": "3.7.2"
  }
 },
 "nbformat": 4,
 "nbformat_minor": 4
}
